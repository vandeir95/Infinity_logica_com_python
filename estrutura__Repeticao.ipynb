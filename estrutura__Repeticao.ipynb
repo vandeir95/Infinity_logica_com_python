{
  "nbformat": 4,
  "nbformat_minor": 0,
  "metadata": {
    "colab": {
      "provenance": [],
      "authorship_tag": "ABX9TyNbPChIrkBk+6JZqEg76XOw",
      "include_colab_link": true
    },
    "kernelspec": {
      "name": "python3",
      "display_name": "Python 3"
    },
    "language_info": {
      "name": "python"
    }
  },
  "cells": [
    {
      "cell_type": "markdown",
      "metadata": {
        "id": "view-in-github",
        "colab_type": "text"
      },
      "source": [
        "<a href=\"https://colab.research.google.com/github/vandeir95/Infinity_logica_com_python/blob/main/estrutura__Repeticao.ipynb\" target=\"_parent\"><img src=\"https://colab.research.google.com/assets/colab-badge.svg\" alt=\"Open In Colab\"/></a>"
      ]
    },
    {
      "cell_type": "markdown",
      "source": [
        "# Atividade 01:\n",
        "# Contagem de 1 a 10:\n",
        "# Crie um programa que use um laço while\n",
        "# para contar de 1 a 10 e exibir cada número."
      ],
      "metadata": {
        "id": "F_fTUBYm9QEC"
      }
    },
    {
      "cell_type": "code",
      "execution_count": null,
      "metadata": {
        "id": "U4Un1x9y9AZn"
      },
      "outputs": [],
      "source": [
        "\n",
        "soma = 0\n",
        "\n",
        "numero = 1\n",
        "\n",
        "while numero <= 10:\n",
        "    soma += numero\n",
        "    numero += 1\n",
        "print(\"A soma  dos numeros de 1 a 10 e igual\", soma)"
      ]
    },
    {
      "cell_type": "markdown",
      "source": [
        "# Atividade 02:\n",
        "# Soma de Números de 1 a 100:\n",
        "# Escreva um programa que use um laço while para\n",
        "# somar os números de 1 a 100 e exiba o resultado."
      ],
      "metadata": {
        "id": "2bv4lM0X9YKW"
      }
    },
    {
      "cell_type": "code",
      "source": [
        "\n",
        "soma = 0\n",
        "\n",
        "numero = 1\n",
        "\n",
        "while numero <= 100:\n",
        "    soma += numero\n",
        "    numero += 1\n",
        "print(\"A soma  dos numeros de 1 a 100 e igual\", soma)\n"
      ],
      "metadata": {
        "colab": {
          "base_uri": "https://localhost:8080/"
        },
        "id": "DlePZdKQ9bQl",
        "outputId": "04bdb955-6f8c-4e46-d450-18c196fb2d48"
      },
      "execution_count": null,
      "outputs": [
        {
          "output_type": "stream",
          "name": "stdout",
          "text": [
            "A soma  dos numeros de 1 a 100 e igual 5050\n"
          ]
        }
      ]
    },
    {
      "cell_type": "markdown",
      "source": [
        "# Atividade 03:\n",
        "# Tabuada de um Número:\n",
        "# Faça um programa que solicite um número ao usuário e use\n",
        "# um laço while para exibir a tabuada desse número (de 1 a 10).\n",
        "\n"
      ],
      "metadata": {
        "id": "HXnKcjud9t5-"
      }
    },
    {
      "cell_type": "code",
      "source": [
        "numero = int(input(\"Digite um numero :\"))\n",
        "\n",
        "n = 1\n",
        "\n",
        "soma = 0\n",
        "\n",
        "while n <= 10 :\n",
        "  soma = n * numero\n",
        "  print(f\"print {numero} * {n} = \", soma)\n",
        "  n += 1\n"
      ],
      "metadata": {
        "colab": {
          "base_uri": "https://localhost:8080/"
        },
        "id": "OARqFhDX9xJd",
        "outputId": "010738e3-84b2-436f-e00b-7f59b486e534"
      },
      "execution_count": null,
      "outputs": [
        {
          "output_type": "stream",
          "name": "stdout",
          "text": [
            "Digite um numero :5\n",
            "print 5 * 1 =  5\n",
            "print 5 * 2 =  10\n",
            "print 5 * 3 =  15\n",
            "print 5 * 4 =  20\n",
            "print 5 * 5 =  25\n",
            "print 5 * 6 =  30\n",
            "print 5 * 7 =  35\n",
            "print 5 * 8 =  40\n",
            "print 5 * 9 =  45\n",
            "print 5 * 10 =  50\n"
          ]
        }
      ]
    },
    {
      "cell_type": "markdown",
      "source": [
        "# Atividade 04:\n",
        "# Contagem Regressiva:\n",
        "# Desenvolva um programa que use um laço while para exibir\n",
        "# uma contagem regressiva de 10 até 1 e, em seguida, exiba\n",
        "# \"Feliz Ano Novo!\"."
      ],
      "metadata": {
        "id": "rHl_uLHVA8vv"
      }
    },
    {
      "cell_type": "code",
      "source": [
        "\n",
        "contador = 10\n",
        "while contador >= 1:\n",
        "  print(contador)\n",
        "  contador -= 1\n",
        "\n",
        "print(\"Feliz Ano Novo\")"
      ],
      "metadata": {
        "colab": {
          "base_uri": "https://localhost:8080/"
        },
        "id": "S4Lf3qFzBAtl",
        "outputId": "af94ac04-988a-4733-f179-41972a55b98d"
      },
      "execution_count": null,
      "outputs": [
        {
          "output_type": "stream",
          "name": "stdout",
          "text": [
            "10\n",
            "9\n",
            "8\n",
            "7\n",
            "6\n",
            "5\n",
            "4\n",
            "3\n",
            "2\n",
            "1\n",
            "Feliz Ano Novo\n"
          ]
        }
      ]
    },
    {
      "cell_type": "markdown",
      "source": [
        "\n",
        "# Atividade 05:\n",
        "# Contagem até o Número Inserido:\n",
        "# Crie um programa que solicite um número ao usuário e use\n",
        "# um laço while para contar de 1 até o número inserido,\n",
        "# exibindo apenas os números ímpares.\n"
      ],
      "metadata": {
        "id": "xvJmua4YEDgg"
      }
    },
    {
      "cell_type": "code",
      "source": [
        "n = int(input(\"digite um numero : \"))\n",
        "\n",
        "contagem = 1\n",
        "\n",
        "\n",
        "while contagem < n :\n",
        "\n",
        "  if contagem % 2 != 0:\n",
        "    print(contagem)\n",
        "  contagem +=1"
      ],
      "metadata": {
        "colab": {
          "base_uri": "https://localhost:8080/"
        },
        "id": "zlAfcBmzEqnM",
        "outputId": "0c4ccd91-e042-4d89-a1cd-38d0e8d1e73c"
      },
      "execution_count": null,
      "outputs": [
        {
          "output_type": "stream",
          "name": "stdout",
          "text": [
            "digite um numero : 10\n",
            "1\n",
            "3\n",
            "5\n",
            "7\n",
            "9\n"
          ]
        }
      ]
    },
    {
      "cell_type": "markdown",
      "source": [
        "# Atividade 06:\n",
        "# Soma de Números Positivos:\n",
        "# Escreva um programa que solicite números ao usuário até\n",
        "# que ele digite um número negativo, somando apenas os\n",
        "# números positivos inseridos.\n"
      ],
      "metadata": {
        "id": "cOWwTb4sGkT4"
      }
    },
    {
      "cell_type": "code",
      "source": [
        "n = 0\n",
        "soma = 0\n",
        "\n",
        "\n",
        "while n >= 0:\n",
        "   n = int(input(\"Digite um numero :\"))\n",
        "\n",
        "   if n >= 0:\n",
        "    soma += n\n",
        "\n",
        "print(soma)\n",
        "\n",
        "\n"
      ],
      "metadata": {
        "colab": {
          "base_uri": "https://localhost:8080/"
        },
        "id": "1Khqio2nGduQ",
        "outputId": "ab7383d3-b55e-476e-bfa3-4edda42486c0"
      },
      "execution_count": null,
      "outputs": [
        {
          "output_type": "stream",
          "name": "stdout",
          "text": [
            "Digite um numero10\n",
            "Digite um numero2\n",
            "Digite um numero4\n",
            "Digite um numero5\n",
            "16\n"
          ]
        }
      ]
    },
    {
      "cell_type": "markdown",
      "source": [
        "# Atividade 07:\n",
        "# Tabuada com Condicional:\n",
        "# Faça um programa que solicite um número ao usuário e use\n",
        "# um laço while para exibir a tabuada desse número (de 1 a 10),\n",
        "# mas apenas para os resultados que forem múltiplos de 3.\n"
      ],
      "metadata": {
        "id": "RaR3Es-5Mcow"
      }
    },
    {
      "cell_type": "code",
      "source": [],
      "metadata": {
        "id": "j5A7gNTMMgz1"
      },
      "execution_count": null,
      "outputs": []
    },
    {
      "cell_type": "markdown",
      "source": [
        "\n",
        "# Atividade 08:\n",
        "# Média de Notas:\n",
        "# Desenvolva um programa que solicite as notas dos alunos até\n",
        "# que o usuário digite -1. Calcule e exiba a média das notas\n",
        "# inseridas."
      ],
      "metadata": {
        "id": "DXJQxOzdPNID"
      }
    },
    {
      "cell_type": "code",
      "source": [],
      "metadata": {
        "id": "TBZkbpHyPTrI"
      },
      "execution_count": null,
      "outputs": []
    },
    {
      "cell_type": "markdown",
      "source": [
        "Atividade 09:\n",
        "Contagem até 10:\n",
        "Crie um programa que use um laço while para contar de 1 a 10\n",
        "e termine quando atingir 10."
      ],
      "metadata": {
        "id": "VLYUIftmRmeE"
      }
    },
    {
      "cell_type": "code",
      "source": [
        "contador = 1\n",
        "while contador <=10:\n",
        "  print(contador)\n",
        "\n",
        "  contador +=1\n",
        "  if contador == 10:\n",
        "    break\n"
      ],
      "metadata": {
        "colab": {
          "base_uri": "https://localhost:8080/"
        },
        "id": "WKNUIBMqRnnQ",
        "outputId": "1e668a66-7d48-4ac3-cc3b-e304c2711c12"
      },
      "execution_count": null,
      "outputs": [
        {
          "output_type": "stream",
          "name": "stdout",
          "text": [
            "1\n",
            "2\n",
            "3\n",
            "4\n",
            "5\n",
            "6\n",
            "7\n",
            "8\n",
            "9\n"
          ]
        }
      ]
    },
    {
      "cell_type": "markdown",
      "source": [
        "# Atividade 08:\n",
        "# Média de Notas:\n",
        "# Desenvolva um programa que solicite as notas dos alunos até\n",
        "# que o usuário digite -1. Calcule e exiba a média das notas\n",
        "# inseridas."
      ],
      "metadata": {
        "id": "66OgtlqYSmex"
      }
    },
    {
      "cell_type": "code",
      "source": [
        "nota = 0\n",
        "contador = 0\n",
        "soma = 0\n",
        "\n",
        "media = 0.0\n",
        "while nota >= 0 :\n",
        " nota = int(input(\"Digite a nota\"))\n",
        " if nota < 0:\n",
        "   break\n",
        " contador += 1\n",
        " soma += nota\n",
        "\n",
        "media = soma / contador\n",
        "\n",
        "\n",
        "print(media)\n",
        "\n"
      ],
      "metadata": {
        "colab": {
          "base_uri": "https://localhost:8080/"
        },
        "id": "WBlFfYaZSpeW",
        "outputId": "c40fcaa5-9f73-471f-9d33-bc259e1d460d"
      },
      "execution_count": null,
      "outputs": [
        {
          "output_type": "stream",
          "name": "stdout",
          "text": [
            "Digite a nota50\n",
            "Digite a nota20\n",
            "Digite a nota-5\n",
            "35.0\n"
          ]
        }
      ]
    },
    {
      "cell_type": "markdown",
      "source": [
        "#Atividade 09:\n",
        "#Contagem até 10:\n",
        "Crie um programa que use um laço while para contar de 1 a 10\n",
        "e termine quando atingir 10."
      ],
      "metadata": {
        "id": "GaNzvLCW0DUY"
      }
    },
    {
      "cell_type": "code",
      "source": [
        "contagem = 1\n",
        "\n",
        "while contagem <= 10:\n",
        "    print(contagem)\n",
        "    contagem += 1\n"
      ],
      "metadata": {
        "colab": {
          "base_uri": "https://localhost:8080/"
        },
        "id": "k3GEaSxW0CMx",
        "outputId": "679c7a63-080b-4132-ae43-03caa674e64c"
      },
      "execution_count": null,
      "outputs": [
        {
          "output_type": "stream",
          "name": "stdout",
          "text": [
            "1\n",
            "2\n",
            "3\n",
            "4\n",
            "5\n",
            "6\n",
            "7\n",
            "8\n",
            "9\n",
            "10\n"
          ]
        }
      ]
    },
    {
      "cell_type": "markdown",
      "source": [
        "# atividade 10\n",
        "\n",
        "#soma ate 50:\n",
        "Escreva um programa que use um laço while para somar\n",
        "números consecutivos começando de 1 e termine quando\n",
        "a soma atingir ou ultrapassar 50.\n",
        "Atividade"
      ],
      "metadata": {
        "id": "zF8BXZ3mW1z_"
      }
    },
    {
      "cell_type": "code",
      "source": [
        "\n",
        "soma = 1\n",
        "\n",
        "while soma <= 50:\n",
        "  print(soma)\n",
        "  soma += 1\n",
        "\n",
        "\n",
        "\n"
      ],
      "metadata": {
        "id": "NnQnKaG2UXfb",
        "colab": {
          "base_uri": "https://localhost:8080/"
        },
        "outputId": "6c21eada-0648-4bb6-cf30-5ffc6a8ecf1a"
      },
      "execution_count": null,
      "outputs": [
        {
          "output_type": "stream",
          "name": "stdout",
          "text": [
            "1\n",
            "2\n",
            "3\n",
            "4\n",
            "5\n",
            "6\n",
            "7\n",
            "8\n",
            "9\n",
            "10\n",
            "11\n",
            "12\n",
            "13\n",
            "14\n",
            "15\n",
            "16\n",
            "17\n",
            "18\n",
            "19\n",
            "20\n",
            "21\n",
            "22\n",
            "23\n",
            "24\n",
            "25\n",
            "26\n",
            "27\n",
            "28\n",
            "29\n",
            "30\n",
            "31\n",
            "32\n",
            "33\n",
            "34\n",
            "35\n",
            "36\n",
            "37\n",
            "38\n",
            "39\n",
            "40\n",
            "41\n",
            "42\n",
            "43\n",
            "44\n",
            "45\n",
            "46\n",
            "47\n",
            "48\n",
            "49\n",
            "50\n"
          ]
        }
      ]
    },
    {
      "cell_type": "markdown",
      "source": [
        "Atividade 11:\n",
        "Entrada Válida:\n",
        "Crie um programa que solicite ao usuário um número entre 1 e 10.\n",
        "Continue pedindo até que o usuário forneça um valor válido."
      ],
      "metadata": {
        "id": "ekkEVB3XYS2H"
      }
    },
    {
      "cell_type": "code",
      "source": [
        "numero_premiado = 7\n",
        "numero = 0\n",
        "while numero_premiado != numero:\n",
        "  numero = int(input('Para ganha o premio Digite uma numero de 1 a 10 :'))\n",
        "  if numero_premiado != numero:\n",
        "    print(\"Voçe Errou Tente novamente !!!\")\n",
        "\n",
        "print(\"Parabens Voce Acertou o Numero Premiado!!!!!!\")\n",
        "\n"
      ],
      "metadata": {
        "id": "3aCE6ghQYzrQ",
        "colab": {
          "base_uri": "https://localhost:8080/"
        },
        "outputId": "965e12ff-1876-4526-f373-80c30ae24cec"
      },
      "execution_count": null,
      "outputs": [
        {
          "output_type": "stream",
          "name": "stdout",
          "text": [
            "Para ganha o premio Digite uma numero de 1 a 10 :1\n",
            "Voçe Errou Tente novamente !!!\n",
            "Para ganha o premio Digite uma numero de 1 a 10 :7\n",
            "Parabens Voce Acertou o Numero Premiado!!!!!!\n"
          ]
        }
      ]
    },
    {
      "cell_type": "markdown",
      "source": [
        "Atividade 12:\n",
        "Senha Correta:\n",
        "\n",
        "Desenvolva um programa que peça ao usuário para digitar uma\n",
        "senha e continue pedindo até que a senha correta (previamente\n",
        "definida) seja inserida."
      ],
      "metadata": {
        "id": "37Tn-af0Yz2O"
      }
    },
    {
      "cell_type": "code",
      "source": [
        "Senha_Secreta = 9525\n",
        "senha =\"\"\n",
        "while Senha_Secreta != senha:\n",
        "  senha = int(input('Para Acessar o cofre didite senha Secreata :'))\n",
        "  if Senha_Secreta != senha:\n",
        "    print(\"Voçe Senha errada Tente novamente !!!\")\n",
        "\n",
        "print(\"Acesso autorizado \")"
      ],
      "metadata": {
        "id": "xZc8uQ9AY1jL",
        "colab": {
          "base_uri": "https://localhost:8080/"
        },
        "outputId": "32b94bf6-1a5d-4e3a-a3db-b61ca3d224a5"
      },
      "execution_count": null,
      "outputs": [
        {
          "output_type": "stream",
          "name": "stdout",
          "text": [
            "Para Acessar o cofre didite senha Secreata :1234\n",
            "Voçe Senha errada Tente novamente !!!\n",
            "Para Acessar o cofre didite senha Secreata :666\n",
            "Voçe Senha errada Tente novamente !!!\n",
            "Para Acessar o cofre didite senha Secreata :9525\n",
            "Acesso autorizado \n"
          ]
        }
      ]
    },
    {
      "cell_type": "code",
      "source": [],
      "metadata": {
        "id": "39nnkVtG5D16"
      },
      "execution_count": null,
      "outputs": []
    },
    {
      "cell_type": "code",
      "source": [
        "\n",
        "numero_secreto = 11\n",
        "tentativa = 0\n",
        "numero = 0\n",
        "vidas = 3\n",
        "\n",
        "\n",
        "while tentativa < 3 :\n",
        "    print(f\"voce tem {vidas} para acerta o numero secreto :\" )\n",
        "    numero =int(input('Digite um numero :'))\n",
        "    if  numero == numero_secreto:\n",
        "     print(\"Parabens você acertou o nume secreto :\")\n",
        "     break\n",
        "\n",
        "    tentativa += 1\n",
        "    vidas -=1\n",
        "\n",
        "\n",
        "\n",
        "\n",
        "\n",
        "\n",
        "print(\"numeros de tentativas Exedidas \")\n"
      ],
      "metadata": {
        "colab": {
          "base_uri": "https://localhost:8080/"
        },
        "id": "40bwNLTl0s4X",
        "outputId": "2bef4b8b-e71e-4fc5-f813-6e0966ddf459"
      },
      "execution_count": null,
      "outputs": [
        {
          "output_type": "stream",
          "name": "stdout",
          "text": [
            "voce tem 3 para acerta o numero secreto\n",
            "Digite um numero2\n",
            "voce tem 2 para acerta o numero secreto\n",
            "Digite um numero3\n",
            "voce tem 1 para acerta o numero secreto\n",
            "Digite um numero5\n",
            "numeros de tentativas Exedidas \n"
          ]
        }
      ]
    },
    {
      "cell_type": "markdown",
      "source": [
        "#Desafios Praticos"
      ],
      "metadata": {
        "id": "U8_zInx56QuG"
      }
    },
    {
      "cell_type": "markdown",
      "source": [
        "#1 - Números Pares em um Intervalo:\n",
        "Crie um programa que solicite dois números ao usuário,\n",
        "representando um intervalo. Use um laço while para exibir\n",
        "todos os números pares dentro desse intervalo."
      ],
      "metadata": {
        "id": "38pYvkgJ6XgA"
      }
    },
    {
      "cell_type": "code",
      "source": [
        "N1 = int(input('Digite o primeiro numero : '))\n",
        "N2 = int(input('Digite o Segundo numero :'))\n",
        "\n",
        "N1 += 1\n",
        "\n",
        "print(f\"Os Numeros Pares entre '{N1}' e '{N2}' São :\")\n",
        "\n",
        "print('-----------------')\n",
        "\n",
        "while N1 < N2 :\n",
        "\n",
        "  if N1 % 2 == 0 :\n",
        "    print(N1)\n",
        "  N1 += 1\n",
        "\n"
      ],
      "metadata": {
        "colab": {
          "base_uri": "https://localhost:8080/"
        },
        "id": "ATVHRXwM6Rs3",
        "outputId": "693ec69d-2453-4a05-8058-c6db467cc08e"
      },
      "execution_count": null,
      "outputs": [
        {
          "output_type": "stream",
          "name": "stdout",
          "text": [
            "Digite o primeiro numero : 50\n",
            "Digite o Segundo numero :60\n",
            "Os Numeros Pares entre '51' e '60' São :\n",
            "-----------------\n",
            "52\n",
            "54\n",
            "56\n",
            "58\n"
          ]
        }
      ]
    },
    {
      "cell_type": "markdown",
      "source": [
        "#2 - Contagem Regressiva com Verificação:\n",
        "\n",
        "Faça um programa que use um laço while para fazer uma\n",
        "contagem regressiva de um número inserido pelo usuário até 0.\n",
        "Durante a contagem, exiba \"Número par\" para os números\n",
        "pares."
      ],
      "metadata": {
        "id": "uWS4QB6f-FVw"
      }
    },
    {
      "cell_type": "code",
      "source": [
        "\n",
        "numero = int(input('Dite um numera para fazer a contagem regreciva Ate 0 a '))\n",
        "contagem = 0\n",
        "print('-----------------')\n",
        "while numero >= contagem:\n",
        "  if numero % 2 == 0:\n",
        "    print(numero)\n",
        "  numero -= 1"
      ],
      "metadata": {
        "colab": {
          "base_uri": "https://localhost:8080/"
        },
        "id": "JMmXw1a48lU1",
        "outputId": "1cfbea4b-20d9-4756-81c3-307eb0a1211d"
      },
      "execution_count": null,
      "outputs": [
        {
          "output_type": "stream",
          "name": "stdout",
          "text": [
            "Dite um numera para fazer a contagem regreciva Ate 0 a 6\n",
            "-----------------\n",
            "6\n",
            "4\n",
            "2\n",
            "0\n"
          ]
        }
      ]
    },
    {
      "cell_type": "markdown",
      "source": [
        "#3 - Soma de Dígitos:\n",
        "Escreva um programa que solicite um número ao usuário e use\n",
        "um laço while para somar os dígitos do número até que a soma\n",
        "seja um único dígito."
      ],
      "metadata": {
        "id": "mDeMKDsBAPB9"
      }
    },
    {
      "cell_type": "code",
      "source": [
        "n = int(input(\"Pessoa 1: digite um numero:\"))\n",
        "\n",
        "# ajuste para o caso do número digitado ser negativo\n",
        "# também inicializa a soma, para o caso do número já ser inicialmente menor que 10 (pois aí não entra no while)\n",
        "soma = n = abs(n)\n",
        "\n",
        "# enquanto o número for maior ou igual a 10 (ou seja, com mais que um dígito), continua\n",
        "while n >= 10:\n",
        "    # calcula a soma dos dígitos\n",
        "    soma = 0\n",
        "    while n > 0:\n",
        "        n, d = divmod(n, 10)\n",
        "        soma += d\n",
        "\n",
        "    # atualiza o número com o valor da soma\n",
        "    n = soma\n",
        "\n",
        "print(f'valor final: {soma}')"
      ],
      "metadata": {
        "colab": {
          "base_uri": "https://localhost:8080/"
        },
        "id": "2_rRiI7A_0lm",
        "outputId": "71b3c556-4c79-405a-cc0f-6d1fe2a87726"
      },
      "execution_count": null,
      "outputs": [
        {
          "output_type": "stream",
          "name": "stdout",
          "text": [
            "Pessoa 1: digite um numero:155\n",
            "valor final: 2\n"
          ]
        }
      ]
    },
    {
      "cell_type": "markdown",
      "source": [
        "#4 - Sequência de Collatz:\n",
        "\n",
        "Crie um programa que solicite um número ao usuário e use um\n",
        "laço while para gerar e exibir a sequência de Collatz até chegar\n",
        "ao número 1.\n",
        "\n",
        "\n",
        "Esta conjectura aplica-se a qualquer número natural inteiro, e diz-nos para, se este número for par, o dividir por 2 (/2), e se for impar, para multiplicar por 3 e adicionar 1 (*3+1). Desta forma, por exemplo, se a sequência iniciar com o número 5 ter-se-á: 5; 16; 8; 4; 2; 1. A conjectura apresenta uma regra dizendo que, qualquer número natural inteiro[1],"
      ],
      "metadata": {
        "id": "f2MZYq4dAalD"
      }
    },
    {
      "cell_type": "code",
      "source": [
        "Numero = int(input('Digite um numero :'))\n",
        "Par = 0\n",
        "Impar = 0\n",
        "\n",
        "while Numero > 1 :\n",
        "  if Numero % 2 == 0:\n",
        "     Numero /=  2\n",
        "     print(Numero)\n",
        "\n",
        "  else:\n",
        "       Numero = Numero * 3 +1\n",
        "       print(Numero)\n",
        "\n",
        "\n",
        "\n",
        "\n"
      ],
      "metadata": {
        "colab": {
          "base_uri": "https://localhost:8080/"
        },
        "id": "pzpt7bPTAg9p",
        "outputId": "85918a26-28c2-4e5f-ac23-a587422a1268"
      },
      "execution_count": null,
      "outputs": [
        {
          "output_type": "stream",
          "name": "stdout",
          "text": [
            "Digite um numero :5\n",
            "16\n",
            "8.0\n",
            "4.0\n",
            "2.0\n",
            "1.0\n"
          ]
        }
      ]
    },
    {
      "cell_type": "markdown",
      "source": [
        "#5- Adivinhar Número:\n",
        "Desenvolva um jogo de adivinhação onde o\n",
        "programa escolhe um número aleatório entre 1 e\n",
        "100. O usuário deve tentar adivinhar o número, e\n",
        "o programa deve fornecer dicas se o palpite está\n",
        "muito alto ou baixo.\n"
      ],
      "metadata": {
        "id": "R3ur5J9qAlEM"
      }
    },
    {
      "cell_type": "code",
      "source": [
        "import random\n",
        "# randrange (exclusivo) e randint (inclusivo)\n",
        "numero_aleatorio = random.randrange(1, 100)\n",
        "palpite = 0\n",
        "tentativa = 10\n",
        "while tentativa > 0:\n",
        "\n",
        "  palpite = int(input(f'Ditite o nume entre 1 e 100, para ganha 10 mil reais voce tem {tentativa} :'))\n",
        "  tentativa -= 1\n",
        "\n",
        "  if palpite == numero_aleatorio:\n",
        "    print(f\"Parabens voçês Ganhou o numero aletorio realmete erra : {numero_aleatorio}\" )\n",
        "    break\n",
        "\n",
        "\n",
        "if palpite !=numero_aleatorio:\n",
        " print(f'infelizmete errou você o numero erra {numero_aleatorio}: ')\n",
        "\n",
        "\n",
        "\n",
        "\n",
        "\n",
        "\n",
        "\n"
      ],
      "metadata": {
        "colab": {
          "base_uri": "https://localhost:8080/"
        },
        "id": "TbOb2ZORAunX",
        "outputId": "a13f67f0-5e2e-46ff-a191-4e06494a60cb"
      },
      "execution_count": null,
      "outputs": [
        {
          "output_type": "stream",
          "name": "stdout",
          "text": [
            "Ditite o nume entre 1 e 100, para ganha 10 mil reais voce tem 10 :65\n",
            "Ditite o nume entre 1 e 100, para ganha 10 mil reais voce tem 9 :74\n",
            "Ditite o nume entre 1 e 100, para ganha 10 mil reais voce tem 8 :56\n",
            "Ditite o nume entre 1 e 100, para ganha 10 mil reais voce tem 7 :12\n",
            "Ditite o nume entre 1 e 100, para ganha 10 mil reais voce tem 6 :11\n",
            "Ditite o nume entre 1 e 100, para ganha 10 mil reais voce tem 5 :22\n",
            "Ditite o nume entre 1 e 100, para ganha 10 mil reais voce tem 4 :66\n",
            "Ditite o nume entre 1 e 100, para ganha 10 mil reais voce tem 3 :5\n",
            "Ditite o nume entre 1 e 100, para ganha 10 mil reais voce tem 2 :10\n",
            "Ditite o nume entre 1 e 100, para ganha 10 mil reais voce tem 1 :1\n",
            "infelizmete errou você o numero erra 62: \n"
          ]
        }
      ]
    }
  ]
}