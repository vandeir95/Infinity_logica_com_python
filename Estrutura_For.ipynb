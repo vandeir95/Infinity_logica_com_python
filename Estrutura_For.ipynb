{
  "nbformat": 4,
  "nbformat_minor": 0,
  "metadata": {
    "colab": {
      "provenance": [],
      "authorship_tag": "ABX9TyO/Q6Ooll9BqVMRuVEq9fOE",
      "include_colab_link": true
    },
    "kernelspec": {
      "name": "python3",
      "display_name": "Python 3"
    },
    "language_info": {
      "name": "python"
    }
  },
  "cells": [
    {
      "cell_type": "markdown",
      "metadata": {
        "id": "view-in-github",
        "colab_type": "text"
      },
      "source": [
        "<a href=\"https://colab.research.google.com/github/vandeir95/Infinity_logica_com_python/blob/main/Estrutura_For.ipynb\" target=\"_parent\"><img src=\"https://colab.research.google.com/assets/colab-badge.svg\" alt=\"Open In Colab\"/></a>"
      ]
    },
    {
      "cell_type": "markdown",
      "source": [],
      "metadata": {
        "id": "AB6o65ynGZdH"
      }
    },
    {
      "cell_type": "code",
      "source": [],
      "metadata": {
        "id": "R9QS5CbyGb1N"
      },
      "execution_count": null,
      "outputs": []
    },
    {
      "cell_type": "markdown",
      "source": [],
      "metadata": {
        "id": "Q6KOj22zGcSN"
      }
    },
    {
      "cell_type": "code",
      "source": [],
      "metadata": {
        "id": "6pF8PkeNGcu1"
      },
      "execution_count": null,
      "outputs": []
    },
    {
      "cell_type": "markdown",
      "source": [
        "# Atividade 03:\n",
        "# Caractere por Caractere:\n",
        "# Escreva um programa que solicite uma palavra ao usuário e use um\n",
        "# laço for para exibir cada caractere da palavra em uma linha separada.\n",
        "\n",
        "\n"
      ],
      "metadata": {
        "id": "udIu60sLFKL7"
      }
    },
    {
      "cell_type": "code",
      "execution_count": 1,
      "metadata": {
        "colab": {
          "base_uri": "https://localhost:8080/"
        },
        "id": "6xOvPeAyE4gJ",
        "outputId": "3d77bce8-a8b2-41a3-affd-5634db81aa0c"
      },
      "outputs": [
        {
          "output_type": "stream",
          "name": "stdout",
          "text": [
            "digite uma palvra:vandeir\n",
            "v\n",
            "a\n",
            "n\n",
            "d\n",
            "e\n",
            "i\n",
            "r\n"
          ]
        }
      ],
      "source": [
        "\n",
        "palavra = input(\"digite uma palvra:\")\n",
        "\n",
        "\n",
        "for letra in palavra:\n",
        "     print(letra)\n",
        "\n"
      ]
    },
    {
      "cell_type": "markdown",
      "source": [
        "# Atividade 04:\n",
        "# Contagem Regressiva de 10 a 1:\n",
        "# Desenvolva um programa que use um laço for para fazer uma\n",
        "# contagem regressiva de 10 até 1 e, em seguida, exiba \"Feliz Ano Novo!\"."
      ],
      "metadata": {
        "id": "wyKgV8xcFVvz"
      }
    },
    {
      "cell_type": "code",
      "source": [
        "for i in range(11, 1, -1):\n",
        "   print(i)\n",
        "\n",
        "\n",
        "print(\"feliz ano novo\")"
      ],
      "metadata": {
        "colab": {
          "base_uri": "https://localhost:8080/"
        },
        "id": "qVelBv_vFSOS",
        "outputId": "9b7657b1-6f5e-445e-a998-8292da203a76"
      },
      "execution_count": 5,
      "outputs": [
        {
          "output_type": "stream",
          "name": "stdout",
          "text": [
            "11\n",
            "10\n",
            "9\n",
            "8\n",
            "7\n",
            "6\n",
            "5\n",
            "4\n",
            "3\n",
            "2\n",
            "feliz ano novo\n"
          ]
        }
      ]
    },
    {
      "cell_type": "code",
      "source": [
        "soma = 0\n",
        "for i in range(1, 51):\n",
        "    if i % 2 == 0 :\n",
        "        soma += i\n",
        "\n",
        "\n",
        "print(soma)\n"
      ],
      "metadata": {
        "colab": {
          "base_uri": "https://localhost:8080/"
        },
        "id": "3ztK_3k_Fnkl",
        "outputId": "a4675a19-460a-4f14-92f4-ffee2c4ecef1"
      },
      "execution_count": 18,
      "outputs": [
        {
          "output_type": "stream",
          "name": "stdout",
          "text": [
            "650\n"
          ]
        }
      ]
    },
    {
      "cell_type": "code",
      "source": [],
      "metadata": {
        "id": "qhpjtjzsQ1JX"
      },
      "execution_count": null,
      "outputs": []
    },
    {
      "cell_type": "markdown",
      "source": [
        "\n",
        "\n",
        "# Atividade 07:\n",
        "# Contagem de Vogais em uma Palavra:\n",
        "# Crie um programa que solicite uma palavra ao usuário e use um laço for com\n",
        "# uma condicional para contar quantas vogais (a, e, i, o, u) a palavra contém.\n",
        "\n"
      ],
      "metadata": {
        "id": "ShBKeehPSQ_k"
      }
    },
    {
      "cell_type": "code",
      "source": [
        "qtdVogais  = 0\n",
        "\n",
        "\n",
        "palavra = input(\"digite uma palavra :\")\n",
        "for vogais in palavra:\n",
        "    if vogais.lower() in \"aeiou\":\n",
        "        qtdVogais += 1\n",
        "\n",
        "print(f\"Numero de vogais na palavra e igual : {qtdVogais}\")\n",
        "\n",
        "\n",
        "\n",
        "\n"
      ],
      "metadata": {
        "colab": {
          "base_uri": "https://localhost:8080/"
        },
        "id": "483qk8WNSRiL",
        "outputId": "b0e622c5-e13a-41dc-83c2-b17872de43f8"
      },
      "execution_count": 8,
      "outputs": [
        {
          "output_type": "stream",
          "name": "stdout",
          "text": [
            "digite uma palavra :vandeir\n",
            "Numero de vogais na palavra e igual 3\n"
          ]
        }
      ]
    },
    {
      "cell_type": "markdown",
      "source": [
        "\n",
        "\n",
        "\n",
        "# Atividade 08:\n",
        "# Cálculo de Média de Notas:\n",
        "# Escreva um programa que solicite 5 notas de alunos. Use um laço for\n",
        "# para somar as notas e uma condicional para exibir a média e a\n",
        "# classificação (\"Aprovado\" para média >= 6,\n"
      ],
      "metadata": {
        "id": "yXhESsoRSnoS"
      }
    },
    {
      "cell_type": "code",
      "source": [
        "soma = 0\n",
        "\n",
        "for i  in range(0, 5):\n",
        "    nota = int(input(\"digite a nota \"))\n",
        "\n",
        "    soma += nota\n",
        "media = soma / 5\n",
        "if media >= 6 :\n",
        "  print(\"Parabens voce foi aprovado\")\n",
        "else:\n",
        "    print(\"reprovado\")\n",
        "\n",
        "print(f\"suamedia foi de {media}\")\n"
      ],
      "metadata": {
        "colab": {
          "base_uri": "https://localhost:8080/"
        },
        "id": "Kj7rIcicSbXN",
        "outputId": "9857b110-64ce-4ed3-b93d-ade801c7d8f9"
      },
      "execution_count": 16,
      "outputs": [
        {
          "output_type": "stream",
          "name": "stdout",
          "text": [
            "digite a nota 4\n",
            "digite a nota 5\n",
            "digite a nota 6\n",
            "digite a nota 3\n",
            "digite a nota 2\n",
            "reprovado\n",
            "suamedia foi de 4.0\n"
          ]
        }
      ]
    },
    {
      "cell_type": "markdown",
      "source": [
        "# Atividade 09:\n",
        "# Verificar Números Pares e Impares com Interrupção:\n",
        "# Crie um programa que use um laço for para contar de 1 a 20. Use condicionais para\n",
        "# identificar números pares e ímpares. Pare o loop ao encontrar o número 15, usando break.\n",
        "\n",
        "\n",
        "\n",
        "\n"
      ],
      "metadata": {
        "id": "p0y7JnxiWedc"
      }
    },
    {
      "cell_type": "code",
      "source": [],
      "metadata": {
        "id": "PsHfecjrXHbJ"
      },
      "execution_count": null,
      "outputs": []
    },
    {
      "cell_type": "markdown",
      "source": [
        "# Atividade 10:\n",
        "# Contar Números Positivos e Negativos:\n",
        "\n",
        "\n",
        "# Peça ao usuário para inserir 10 números. Use um laço for com condicionais para contar quantos\n",
        "# são positivos e quantos são negativos. Pare o loop se o número 0 for inserido, usando break."
      ],
      "metadata": {
        "id": "w-v_H2y5WpdK"
      }
    },
    {
      "cell_type": "code",
      "source": [],
      "metadata": {
        "id": "YPtGOEfMXIPn"
      },
      "execution_count": null,
      "outputs": []
    },
    {
      "cell_type": "markdown",
      "source": [
        "\n",
        "\n",
        "\n",
        "# Atividade 11:\n",
        "# Verificar Múltiplos de 5 e Parar:\n",
        "# Escreva um programa que use um laço for para imprimir números de 1 a 30.\n",
        "# Use uma condicional para verificar se um número é múltiplo de 5 e outro\n",
        "# para verificar se é maior que\n"
      ],
      "metadata": {
        "id": "7UjlLmQ8Wv3x"
      }
    },
    {
      "cell_type": "code",
      "source": [],
      "metadata": {
        "id": "FPwlMEdVXJZx"
      },
      "execution_count": null,
      "outputs": []
    },
    {
      "cell_type": "markdown",
      "source": [
        "\n",
        "# Atividade 12:\n",
        "# Soma de Números com Desconto:\n",
        "# Peça ao usuário para inserir 5 preços de produtos. Use um laço for para\n",
        "# calcular o total. Aplique um desconto de 10% se o total ultrapassar 100 e\n",
        "# interrompa o loop com break."
      ],
      "metadata": {
        "id": "nznlqZupW1YA"
      }
    },
    {
      "cell_type": "markdown",
      "source": [],
      "metadata": {
        "id": "WmE9kT5SWxsC"
      }
    },
    {
      "cell_type": "code",
      "source": [],
      "metadata": {
        "id": "WP-o7dWeTt5s"
      },
      "execution_count": null,
      "outputs": []
    }
  ]
}