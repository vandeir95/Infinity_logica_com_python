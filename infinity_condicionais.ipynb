{
  "nbformat": 4,
  "nbformat_minor": 0,
  "metadata": {
    "colab": {
      "provenance": [],
      "authorship_tag": "ABX9TyPzC3uVM4NWU/SFOanU5SCF",
      "include_colab_link": true
    },
    "kernelspec": {
      "name": "python3",
      "display_name": "Python 3"
    },
    "language_info": {
      "name": "python"
    }
  },
  "cells": [
    {
      "cell_type": "markdown",
      "metadata": {
        "id": "view-in-github",
        "colab_type": "text"
      },
      "source": [
        "<a href=\"https://colab.research.google.com/github/vandeir95/Infinity_logica_com_python/blob/main/infinity_condicionais.ipynb\" target=\"_parent\"><img src=\"https://colab.research.google.com/assets/colab-badge.svg\" alt=\"Open In Colab\"/></a>"
      ]
    },
    {
      "cell_type": "markdown",
      "source": [
        "                **Infinity atividade **\n",
        "\n",
        "\n",
        "                "
      ],
      "metadata": {
        "id": "sVoA2k-8hVFM"
      }
    },
    {
      "cell_type": "code",
      "source": [],
      "metadata": {
        "id": "TuBpWXEj6DQ8"
      },
      "execution_count": null,
      "outputs": []
    },
    {
      "cell_type": "markdown",
      "source": [
        "Atividade 11:\n",
        "Verificar Par ou Ímpar e Positivo ou Negativo:\n",
        "Escreva um programa que peça um número e use if para verificar\n",
        "se ele é par ou ímpar e também se é positivo ou negativo."
      ],
      "metadata": {
        "id": "-uTMwaLbiEwR"
      }
    },
    {
      "cell_type": "code",
      "execution_count": null,
      "metadata": {
        "colab": {
          "base_uri": "https://localhost:8080/"
        },
        "id": "yzYBQYXcf5f7",
        "outputId": "606e39be-1304-47c5-9f05-331ab0cdc006"
      },
      "outputs": [
        {
          "output_type": "stream",
          "name": "stdout",
          "text": [
            "Digite um numero :-9\n",
            "O numero digita e Ímpar  e negativo\n"
          ]
        }
      ],
      "source": [
        "N = int(input(\"Digite um numero :\"))\n",
        "\n",
        "if N % 2 == 0 and N > 0:\n",
        "  print(\"O numero digita e Par e Positivo\")\n",
        "\n",
        "elif N % 2 == 0 and N < 0:\n",
        "    print(\"O numero digita e Par e Negativo\")\n",
        "\n",
        "\n",
        "elif N % 2 != 0 and N > 0 :\n",
        "    print(\"O numero digita e Ímpara e Positivo\")\n",
        "else:\n",
        "    print(\"O numero digita e Ímpar  e negativo\")\n",
        "\n",
        "\n",
        "\n",
        "\n",
        "\n"
      ]
    },
    {
      "cell_type": "markdown",
      "source": [
        "Atividade 12:\n",
        "Verificar Classificação de IMC:\n",
        "Crie um programa que calcule o Índice de Massa Corporal (IMC)\n",
        "e use if para classificar o resultado em \"Abaixo do peso\",\"Pesonormal\",\"Sobrepeso\" e \"Obesidade\".\n",
        "\n",
        "Menor que 18,5\tMagreza\t0\n",
        "Entre 18,5 e 24,9\tNormal\t0\n",
        "Entre 25,0 e 29,9\tSobrepeso\tI\n",
        "Entre 30,0 e 39,9\tObesidade\tII\n",
        "Maior que 40,0\tObesidade Grave\tIII"
      ],
      "metadata": {
        "id": "M_C7JalyoAVc"
      }
    },
    {
      "cell_type": "code",
      "source": [
        "peso = float(input(\"Digite seu peso :\"))\n",
        "altura = float(input(\"Digite sua altura: \"))\n",
        "\n",
        "\n",
        "IMC = peso / altura ** 2\n",
        "\n",
        "if IMC < 18.5 :\n",
        "  print(\"Seu IMC Estar abaixo do peso\")\n",
        "\n",
        "elif IMC >=  18.5 and IMC  <= 24.9 :\n",
        "  print(\"Seu IMC Estar abaixo do Peso Normal\")\n",
        "\n",
        "elif IMC >=  25 and IMC  <= 29.9 :\n",
        "  print(\"Seu IMC mostra que você esta com Sobrepeso I\")\n",
        "\n",
        "elif IMC >= 30 and IMC <= 39.99:\n",
        "  print(\"Seu IMC mostra que você esta com Obesidade II\")\n",
        "\n",
        "else:\n",
        "  print(\"Seu IMC mostra que você esta com Obesidade Grave III\")\n",
        "\n"
      ],
      "metadata": {
        "colab": {
          "base_uri": "https://localhost:8080/"
        },
        "id": "TDT1dUwUn-nA",
        "outputId": "1477e82c-afe4-45dc-87ce-12eee16f12e5"
      },
      "execution_count": null,
      "outputs": [
        {
          "output_type": "stream",
          "name": "stdout",
          "text": [
            "Digite seu peso :50\n",
            "Digite sua altura: 1.20\n",
            "Seu IMC mostra que você esta com Obesidade II\n"
          ]
        }
      ]
    },
    {
      "cell_type": "markdown",
      "source": [
        "Atividade 13:\n",
        "Sistema de Login Simples:\n",
        "Desenvolva um programa que peça ao usuário um nome de usuário\n",
        "e uma senha e use if para verificar se são iguais a \"admin\" e \"1234\",\n",
        "\n",
        "respectivamente."
      ],
      "metadata": {
        "id": "DxAawCOItaWQ"
      }
    },
    {
      "cell_type": "code",
      "source": [
        "Usuario = input(\"Ditite seu usuario: \")\n",
        "Senha = input(\"Digite sua Senha:\")\n",
        "\n",
        "if Usuario == \"admin\" and Senha == \"1234\":\n",
        "  print(\"Acesso Autorizado\")\n",
        "\n",
        "else:\n",
        "  print(\"Aceso Negado Verifique a senha ou Usuario\")\n"
      ],
      "metadata": {
        "colab": {
          "base_uri": "https://localhost:8080/"
        },
        "id": "zEMmgvzNppJz",
        "outputId": "584e6d14-cee7-451e-f2f8-dc68339e067a"
      },
      "execution_count": null,
      "outputs": [
        {
          "output_type": "stream",
          "name": "stdout",
          "text": [
            "Ditite seu usuariovandeir\n",
            "Digite sua Senha1234\n",
            "Aceso Negado Verifique a senha ou Usuario\n"
          ]
        }
      ]
    },
    {
      "cell_type": "markdown",
      "source": [
        "Atividade 14:\n",
        "Verificar Status de Taxa de Desconto:\n",
        "Crie um programa que peça ao usuário o preço original de um produto e\n",
        "a quantidade comprada. Use if para verificar se a quantidade é maior que\n",
        "10 para aplicar um desconto de 10% sobre o total."
      ],
      "metadata": {
        "id": "mYDpj5XbvljX"
      }
    },
    {
      "cell_type": "code",
      "source": [
        "produto = (\"Dite o nome do produto:\")\n",
        "preco = float(input(\"dite o preço do produto:\" ))\n",
        "Qtd_produto = int(input(\"digite a  quantidade produto comprados:  \"))\n",
        "\n",
        "total = 0.0\n",
        "Desconto = 0.1\n",
        "total = produto * Qtd_produto\n",
        "\n",
        "\n",
        "\n",
        "\n",
        "if Qtd_produto >= 10:\n",
        "  print(f\"total da compra e igual :{total * Desconto}\" )\n",
        "\n",
        "else:\n",
        "  print(f\"total compra igual:{total}\")"
      ],
      "metadata": {
        "colab": {
          "base_uri": "https://localhost:8080/",
          "height": 245
        },
        "id": "Czf481SbvVyw",
        "outputId": "7e4a3c7a-cead-4a04-828e-12c41a0899ce"
      },
      "execution_count": null,
      "outputs": [
        {
          "name": "stdout",
          "output_type": "stream",
          "text": [
            "dite o preço do produto:5\n",
            "digite a  quantidade produto comprados:  10\n"
          ]
        },
        {
          "output_type": "error",
          "ename": "TypeError",
          "evalue": "can't multiply sequence by non-int of type 'float'",
          "traceback": [
            "\u001b[0;31m---------------------------------------------------------------------------\u001b[0m",
            "\u001b[0;31mTypeError\u001b[0m                                 Traceback (most recent call last)",
            "\u001b[0;32m<ipython-input-4-86f07cc13c1f>\u001b[0m in \u001b[0;36m<cell line: 12>\u001b[0;34m()\u001b[0m\n\u001b[1;32m     11\u001b[0m \u001b[0;34m\u001b[0m\u001b[0m\n\u001b[1;32m     12\u001b[0m \u001b[0;32mif\u001b[0m \u001b[0mQtd_produto\u001b[0m \u001b[0;34m>=\u001b[0m \u001b[0;36m10\u001b[0m\u001b[0;34m:\u001b[0m\u001b[0;34m\u001b[0m\u001b[0;34m\u001b[0m\u001b[0m\n\u001b[0;32m---> 13\u001b[0;31m   \u001b[0mprint\u001b[0m\u001b[0;34m(\u001b[0m\u001b[0;34mf\"total da compra e igual :{total * Desconto}\"\u001b[0m \u001b[0;34m)\u001b[0m\u001b[0;34m\u001b[0m\u001b[0;34m\u001b[0m\u001b[0m\n\u001b[0m\u001b[1;32m     14\u001b[0m \u001b[0;34m\u001b[0m\u001b[0m\n\u001b[1;32m     15\u001b[0m \u001b[0;32melse\u001b[0m\u001b[0;34m:\u001b[0m\u001b[0;34m\u001b[0m\u001b[0;34m\u001b[0m\u001b[0m\n",
            "\u001b[0;31mTypeError\u001b[0m: can't multiply sequence by non-int of type 'float'"
          ]
        }
      ]
    },
    {
      "cell_type": "code",
      "source": [],
      "metadata": {
        "id": "2nOarUyK6EzV"
      },
      "execution_count": null,
      "outputs": []
    },
    {
      "cell_type": "code",
      "source": [],
      "metadata": {
        "id": "8soaJpFz6FAf"
      },
      "execution_count": null,
      "outputs": []
    },
    {
      "cell_type": "code",
      "source": [],
      "metadata": {
        "id": "vKROb4-K6FD0"
      },
      "execution_count": null,
      "outputs": []
    }
  ]
}